{
 "cells": [
  {
   "cell_type": "code",
   "execution_count": 1,
   "metadata": {
    "trusted": true
   },
   "outputs": [
    {
     "name": "stderr",
     "output_type": "stream",
     "text": [
      "/home/maxim/anaconda3/envs/bert_clasify/lib/python3.10/site-packages/tqdm/auto.py:21: TqdmWarning: IProgress not found. Please update jupyter and ipywidgets. See https://ipywidgets.readthedocs.io/en/stable/user_install.html\n",
      "  from .autonotebook import tqdm as notebook_tqdm\n"
     ]
    }
   ],
   "source": [
    "import os\n",
    "import gc\n",
    "import math\n",
    "import numpy as np\n",
    "import pandas as pd\n",
    "import torch\n",
    "import torch.nn as nn\n",
    "import torch.nn.functional as F\n",
    "from torch.nn.parallel import DistributedDataParallel as DDP\n",
    "from torch import optim\n",
    "from tqdm import tqdm\n",
    "from sklearn.model_selection import train_test_split\n",
    "\n",
    "\n",
    "from transformers import BertForSequenceClassification\n",
    "from transformers import AutoModelForSequenceClassification, DistilBertModel, AutoModel\n",
    "from transformers import AutoTokenizer, TrainingArguments, Trainer\n",
    "from transformers import DataCollatorWithPadding\n",
    "from torch.utils.data import Dataset, DataLoader\n",
    "import evaluate\n",
    "import warnings  \n",
    "\n",
    "os.environ[\"TOKENIZERS_PARALLELISM\"] = \"false\"\n",
    "torch.set_float32_matmul_precision('high')\n",
    "torch.backends.cuda.matmul.allow_tf32 = True"
   ]
  },
  {
   "cell_type": "code",
   "execution_count": 2,
   "metadata": {
    "trusted": true
   },
   "outputs": [],
   "source": [
    "def set_random_seed(seed):\n",
    "    \"\"\"\n",
    "    Set the random seed for NumPy and PyTorch.\n",
    "    Parameters:\n",
    "    seed (int): The seed value to set for random number generation.\n",
    "    \"\"\"\n",
    "    np.random.seed(seed)  # Set seed for NumPy\n",
    "    torch.manual_seed(seed)  # Set seed for CPU\n",
    "    if torch.cuda.is_available():\n",
    "        torch.cuda.manual_seed(seed)  # Set seed for GPU\n",
    "        torch.cuda.manual_seed_all(seed) #Set for all GPUs\n",
    "device = torch.device('cuda' if torch.cuda.is_available() else 'cpu')\n",
    "set_random_seed(42)"
   ]
  },
  {
   "cell_type": "code",
   "execution_count": 3,
   "metadata": {
    "trusted": true
   },
   "outputs": [],
   "source": [
    "reddit_df_title = pd.read_csv('data/stress-detection-from-social-media-articles/Reddit_Title.csv', sep=\";\")\n",
    "reddit_df_title = reddit_df_title.drop(columns = ['Unnamed: 2','Unnamed: 3', 'Unnamed: 4'])"
   ]
  },
  {
   "cell_type": "code",
   "execution_count": 4,
   "metadata": {
    "trusted": true
   },
   "outputs": [
    {
     "data": {
      "text/plain": [
       "label\n",
       "0    2811\n",
       "1    2745\n",
       "Name: count, dtype: int64"
      ]
     },
     "execution_count": 4,
     "metadata": {},
     "output_type": "execute_result"
    }
   ],
   "source": [
    "reddit_df_title.label.value_counts()"
   ]
  },
  {
   "cell_type": "code",
   "execution_count": 5,
   "metadata": {
    "trusted": true
   },
   "outputs": [],
   "source": [
    "train_df, test_df = train_test_split(reddit_df_title, test_size = 0.3, shuffle = True)"
   ]
  },
  {
   "cell_type": "code",
   "execution_count": 6,
   "metadata": {
    "trusted": true
   },
   "outputs": [],
   "source": [
    "class TextDataset(Dataset):\n",
    "    def __init__(self, df, tokenizer, max_length):\n",
    "        self.max_length = max_length\n",
    "        self.tokenizer = tokenizer\n",
    "        self.text = df.title.values\n",
    "        self.labels = df.label.values\n",
    "    def __getitem__(self, idx):\n",
    "        one2two = np.eye(2)\n",
    "        dict_idx = self.tokenizer(self.text[idx], truncation=True, padding='max_length', max_length=self.max_length, return_tensors=\"pt\")\n",
    "        dict_idx['labels'] = one2two[self.labels[[idx]]]\n",
    "        return dict_idx\n",
    "    def __len__(self):return self.text.shape[0]\n"
   ]
  },
  {
   "cell_type": "code",
   "execution_count": 7,
   "metadata": {
    "trusted": true
   },
   "outputs": [],
   "source": [
    "tokenizer = AutoTokenizer.from_pretrained('distilbert-base-uncased')"
   ]
  },
  {
   "cell_type": "code",
   "execution_count": 8,
   "metadata": {
    "trusted": true
   },
   "outputs": [
    {
     "data": {
      "image/png": "[encoded data removed]",
      "text/plain": [
       "<Figure size 640x480 with 1 Axes>"
      ]
     },
     "metadata": {},
     "output_type": "display_data"
    }
   ],
   "source": [
    "import matplotlib.pyplot as plt\n",
    "import seaborn as sns\n",
    "\n",
    "\n",
    "lens = list(map(len, tokenizer(list(reddit_df_title['title'].values))['input_ids']))\n",
    "hist = sns.histplot(lens, \n",
    "                    bins=50, \n",
    "                    color='skyblue', \n",
    "                    edgecolor='black', \n",
    "                    kde=True)\n",
    "plt.show()\n"
   ]
  },
  {
   "cell_type": "code",
   "execution_count": 9,
   "metadata": {
    "trusted": true
   },
   "outputs": [],
   "source": [
    "max_length = 80\n",
    "\n",
    "train_dataset = TextDataset(train_df, tokenizer = tokenizer, max_length = max_length)\n",
    "test_dataset = TextDataset(test_df,tokenizer = tokenizer, max_length = max_length)"
   ]
  },
  {
   "cell_type": "code",
   "execution_count": 10,
   "metadata": {
    "trusted": true
   },
   "outputs": [],
   "source": [
    "batch_size = 256\n",
    "\n",
    "train_loader = DataLoader(train_dataset, batch_size, shuffle = True, num_workers=4)\n",
    "test_loader = DataLoader(test_dataset, batch_size, shuffle = True, num_workers=4)\n"
   ]
  },
  {
   "cell_type": "code",
   "execution_count": 11,
   "metadata": {
    "trusted": true
   },
   "outputs": [],
   "source": [
    "class CosineLearningRate():\n",
    "    def __init__(self, max_lr, min_lr, warmupsteps, max_steps):\n",
    "        self.max_lr = max_lr\n",
    "        self.min_lr = min_lr\n",
    "        self.warmupsteps = warmupsteps\n",
    "        self.max_steps = max_steps\n",
    "    \n",
    "    def get_lr(self, it):\n",
    "        if it < self.warmupsteps:\n",
    "            return self.max_lr * (it + 1)\n",
    "        if it > self.max_steps:\n",
    "            return self.min_lr\n",
    "        decay_ratio = (it - self.warmupsteps) / (self.max_steps - self.warmupsteps)\n",
    "        assert 0 <= decay_ratio <= 1\n",
    "        coeff = 0.5 * (1.0 + math.cos(math.pi * decay_ratio))\n",
    "        return self.min_lr + coeff * (self.max_lr - self.min_lr)\n",
    "        \n",
    "class DistilBertModelClass(torch.nn.Module):\n",
    "    def __init__(self, d_model, nclasses, dropout = .4):\n",
    "        super(DistilBertModelClass, self).__init__()\n",
    "        self.l1 = DistilBertModel.from_pretrained(\"distilbert-base-uncased\")\n",
    "        self.pre_classifier = torch.nn.Linear(768, d_model)\n",
    "        self.dropout = torch.nn.Dropout(dropout)\n",
    "        self.classifier = torch.nn.Linear(d_model, nclasses)\n",
    "\n",
    "    def forward(self, input_ids, attention_mask):\n",
    "        output_1 = self.l1(input_ids=input_ids, attention_mask=attention_mask)\n",
    "        hidden_state = output_1['last_hidden_state']\n",
    "        pooler = hidden_state[:, 0]\n",
    "        pooler = self.pre_classifier(pooler)\n",
    "        pooler = torch.nn.ReLU()(pooler)\n",
    "        pooler = self.dropout(pooler)\n",
    "        output = self.classifier(pooler)\n",
    "        return output\n"
   ]
  },
  {
   "cell_type": "code",
   "execution_count": 21,
   "metadata": {
    "trusted": true
   },
   "outputs": [],
   "source": [
    "model = DistilBertModelClass(d_model = 768, nclasses=2).to(device)\n",
    "# model = torch.nn.DataParallel(model, device_ids = [0,1])"
   ]
  },
  {
   "cell_type": "code",
   "execution_count": 17,
   "metadata": {
    "trusted": true
   },
   "outputs": [],
   "source": [
    "def accuracy(preds, targets):\n",
    "    a = preds.argmax(dim = 1) == targets.argmax(dim = 1)\n",
    "    return(a.sum() / a.shape[0])"
   ]
  },
  {
   "cell_type": "code",
   "execution_count": 22,
   "metadata": {
    "trusted": true
   },
   "outputs": [
    {
     "name": "stderr",
     "output_type": "stream",
     "text": [
      "Epoch:   0%|          | 0/50 [00:00<?, ?it/s]"
     ]
    },
    {
     "name": "stdout",
     "output_type": "stream",
     "text": [
      "Train loss: 0.5666; Validation loss: 0.3169; Validation acc: 0.9348\n"
     ]
    },
    {
     "name": "stderr",
     "output_type": "stream",
     "text": [
      "Epoch:   2%|▏         | 1/50 [00:07<05:44,  7.02s/it]"
     ]
    },
    {
     "name": "stdout",
     "output_type": "stream",
     "text": [
      "Train loss: 0.2148; Validation loss: 0.1600; Validation acc: 0.9455\n"
     ]
    },
    {
     "name": "stderr",
     "output_type": "stream",
     "text": [
      "Epoch:   4%|▍         | 2/50 [00:13<05:35,  6.99s/it]"
     ]
    },
    {
     "name": "stdout",
     "output_type": "stream",
     "text": [
      "Train loss: 0.1080; Validation loss: 0.1327; Validation acc: 0.9566\n"
     ]
    },
    {
     "name": "stderr",
     "output_type": "stream",
     "text": [
      "Epoch:   8%|▊         | 4/50 [00:27<05:12,  6.80s/it]"
     ]
    },
    {
     "name": "stdout",
     "output_type": "stream",
     "text": [
      "Train loss: 0.0738; Validation loss: 0.1337; Validation acc: 0.9582\n"
     ]
    },
    {
     "name": "stderr",
     "output_type": "stream",
     "text": [
      "Epoch:  10%|█         | 5/50 [00:33<05:01,  6.69s/it]"
     ]
    },
    {
     "name": "stdout",
     "output_type": "stream",
     "text": [
      "Train loss: 0.0488; Validation loss: 0.1489; Validation acc: 0.9511\n"
     ]
    },
    {
     "name": "stderr",
     "output_type": "stream",
     "text": [
      "Epoch:  12%|█▏        | 6/50 [00:40<04:51,  6.63s/it]"
     ]
    },
    {
     "name": "stdout",
     "output_type": "stream",
     "text": [
      "Train loss: 0.0348; Validation loss: 0.1558; Validation acc: 0.9567\n"
     ]
    },
    {
     "name": "stderr",
     "output_type": "stream",
     "text": [
      "Epoch:  14%|█▍        | 7/50 [00:47<04:43,  6.59s/it]"
     ]
    },
    {
     "name": "stdout",
     "output_type": "stream",
     "text": [
      "Train loss: 0.0247; Validation loss: 0.1563; Validation acc: 0.9561\n"
     ]
    },
    {
     "name": "stderr",
     "output_type": "stream",
     "text": [
      "Epoch:  16%|█▌        | 8/50 [00:53<04:36,  6.58s/it]"
     ]
    },
    {
     "name": "stdout",
     "output_type": "stream",
     "text": [
      "Train loss: 0.0210; Validation loss: 0.1714; Validation acc: 0.9543\n"
     ]
    },
    {
     "name": "stderr",
     "output_type": "stream",
     "text": [
      "Epoch:  18%|█▊        | 9/50 [01:00<04:29,  6.56s/it]"
     ]
    },
    {
     "name": "stdout",
     "output_type": "stream",
     "text": [
      "Train loss: 0.0171; Validation loss: 0.1964; Validation acc: 0.9510\n"
     ]
    },
    {
     "name": "stderr",
     "output_type": "stream",
     "text": [
      "Epoch:  20%|██        | 10/50 [01:06<04:22,  6.55s/it]"
     ]
    },
    {
     "name": "stdout",
     "output_type": "stream",
     "text": [
      "Train loss: 0.0178; Validation loss: 0.2036; Validation acc: 0.9509\n"
     ]
    },
    {
     "name": "stderr",
     "output_type": "stream",
     "text": [
      "Epoch:  22%|██▏       | 11/50 [01:13<04:15,  6.54s/it]"
     ]
    },
    {
     "name": "stdout",
     "output_type": "stream",
     "text": [
      "Train loss: 0.0207; Validation loss: 0.2046; Validation acc: 0.9533\n"
     ]
    },
    {
     "name": "stderr",
     "output_type": "stream",
     "text": [
      "Epoch:  24%|██▍       | 12/50 [01:19<04:08,  6.54s/it]"
     ]
    },
    {
     "name": "stdout",
     "output_type": "stream",
     "text": [
      "Train loss: 0.0148; Validation loss: 0.1861; Validation acc: 0.9533\n"
     ]
    },
    {
     "name": "stderr",
     "output_type": "stream",
     "text": [
      "Epoch:  26%|██▌       | 13/50 [01:26<04:01,  6.53s/it]"
     ]
    },
    {
     "name": "stdout",
     "output_type": "stream",
     "text": [
      "Train loss: 0.0121; Validation loss: 0.1811; Validation acc: 0.9554\n"
     ]
    },
    {
     "name": "stderr",
     "output_type": "stream",
     "text": [
      "Epoch:  28%|██▊       | 14/50 [01:32<03:54,  6.52s/it]"
     ]
    },
    {
     "name": "stdout",
     "output_type": "stream",
     "text": [
      "Train loss: 0.0124; Validation loss: 0.1858; Validation acc: 0.9539\n"
     ]
    },
    {
     "name": "stderr",
     "output_type": "stream",
     "text": [
      "Epoch:  30%|███       | 15/50 [01:39<03:48,  6.52s/it]"
     ]
    },
    {
     "name": "stdout",
     "output_type": "stream",
     "text": [
      "Train loss: 0.0105; Validation loss: 0.2064; Validation acc: 0.9532\n"
     ]
    },
    {
     "name": "stderr",
     "output_type": "stream",
     "text": [
      "Epoch:  32%|███▏      | 16/50 [01:45<03:42,  6.54s/it]"
     ]
    },
    {
     "name": "stdout",
     "output_type": "stream",
     "text": [
      "Train loss: 0.0075; Validation loss: 0.1916; Validation acc: 0.9550\n"
     ]
    },
    {
     "name": "stderr",
     "output_type": "stream",
     "text": [
      "Epoch:  34%|███▍      | 17/50 [01:52<03:35,  6.54s/it]"
     ]
    },
    {
     "name": "stdout",
     "output_type": "stream",
     "text": [
      "Train loss: 0.0071; Validation loss: 0.2047; Validation acc: 0.9550\n"
     ]
    },
    {
     "name": "stderr",
     "output_type": "stream",
     "text": [
      "Epoch:  34%|███▍      | 17/50 [01:55<03:44,  6.81s/it]\n"
     ]
    },
    {
     "ename": "KeyboardInterrupt",
     "evalue": "",
     "output_type": "error",
     "traceback": [
      "\u001b[0;31m---------------------------------------------------------------------------\u001b[0m",
      "\u001b[0;31mKeyboardInterrupt\u001b[0m                         Traceback (most recent call last)",
      "Cell \u001b[0;32mIn[22], line 22\u001b[0m\n\u001b[1;32m     20\u001b[0m \u001b[38;5;28;01mfor\u001b[39;00m d \u001b[38;5;129;01min\u001b[39;00m train_loader:\n\u001b[1;32m     21\u001b[0m     optimizer\u001b[38;5;241m.\u001b[39mzero_grad()\n\u001b[0;32m---> 22\u001b[0m     x \u001b[38;5;241m=\u001b[39m \u001b[43md\u001b[49m\u001b[43m[\u001b[49m\u001b[38;5;124;43m'\u001b[39;49m\u001b[38;5;124;43minput_ids\u001b[39;49m\u001b[38;5;124;43m'\u001b[39;49m\u001b[43m]\u001b[49m\u001b[38;5;241;43m.\u001b[39;49m\u001b[43mto\u001b[49m\u001b[43m(\u001b[49m\u001b[43mdevice\u001b[49m\u001b[43m)\u001b[49m\n\u001b[1;32m     23\u001b[0m     mask \u001b[38;5;241m=\u001b[39m d[\u001b[38;5;124m'\u001b[39m\u001b[38;5;124mattention_mask\u001b[39m\u001b[38;5;124m'\u001b[39m]\u001b[38;5;241m.\u001b[39mto(device)\n\u001b[1;32m     24\u001b[0m     y \u001b[38;5;241m=\u001b[39m d[\u001b[38;5;124m'\u001b[39m\u001b[38;5;124mlabels\u001b[39m\u001b[38;5;124m'\u001b[39m]\u001b[38;5;241m.\u001b[39mto(device, dtype \u001b[38;5;241m=\u001b[39m torch\u001b[38;5;241m.\u001b[39mfloat32)\u001b[38;5;241m.\u001b[39msqueeze(\u001b[38;5;241m1\u001b[39m)\n",
      "\u001b[0;31mKeyboardInterrupt\u001b[0m: "
     ]
    }
   ],
   "source": [
    "from tqdm import tqdm\n",
    "import time\n",
    "\n",
    "loss_fn = nn.CrossEntropyLoss()\n",
    "optimizer = optim.AdamW(model.parameters(), lr = 2e-5)\n",
    "epochs = 50\n",
    "train_loss_per_epoch = np.zeros(epochs)\n",
    "val_loss_per_epoch = np.zeros(epochs)\n",
    "val_acc_per_epoch = np.zeros(epochs)\n",
    "best_train_loss = float('inf')\n",
    "best_val_loss = float('inf')\n",
    "tolerance = 0.001\n",
    "early_stop_steps = 5\n",
    "c = 0\n",
    "for epoch in tqdm(range(epochs), desc =\"Epoch\"):\n",
    "    train_losses = []\n",
    "    val_losses = []\n",
    "    acc = []\n",
    "    model.train()\n",
    "    for d in train_loader:\n",
    "        optimizer.zero_grad()\n",
    "        x = d['input_ids'].to(device)\n",
    "        mask = d['attention_mask'].to(device)\n",
    "        y = d['labels'].to(device, dtype = torch.float32).squeeze(1)\n",
    "        with torch.autocast(device_type=device.type, dtype = torch.bfloat16):\n",
    "            preds = model(x.squeeze(1), mask.squeeze(1))\n",
    "            loss = loss_fn(preds, y)\n",
    "        train_losses.append(loss.item())\n",
    "        loss.backward()\n",
    "        optimizer.step()\n",
    "    \n",
    "    model.eval()\n",
    "    with torch.no_grad():\n",
    "        for d in test_loader:\n",
    "            x = d['input_ids'].to(device)\n",
    "            mask = d['attention_mask'].to(device)\n",
    "            y = d['labels'].to(device, dtype = torch.float32).squeeze(1)\n",
    "            with torch.autocast(device_type=device.type, dtype = torch.bfloat16):\n",
    "                preds = model(x.squeeze(1), mask.squeeze(1))\n",
    "                loss = loss_fn(preds, y)\n",
    "            val_losses.append(loss.item())\n",
    "            acc.append(accuracy(F.softmax(preds, dim = 1), y).item())\n",
    "            \n",
    "    avg_train_loss = sum(train_losses) / len(train_losses)\n",
    "    avg_val_loss = sum(val_losses) / len(val_losses)\n",
    "    avg_val_acc = sum(acc) / len(acc)\n",
    "    train_loss_per_epoch[epoch] = avg_train_loss\n",
    "    val_loss_per_epoch[epoch] = avg_val_loss\n",
    "    val_acc_per_epoch[epoch] = avg_val_acc\n",
    "    if epoch % 1 == 0:\n",
    "        print(f\"Train loss: {avg_train_loss:.4f}; Validation loss: {avg_val_loss:.4f}; Validation acc: {avg_val_acc:.4f}\")\n",
    "    if (avg_train_loss < best_train_loss) and (avg_val_loss < best_val_loss):\n",
    "        best_train_loss = avg_train_loss\n",
    "        best_val_loss = avg_val_loss\n",
    "        torch.save(model.state_dict(), f'model_veights_{epoch}epo.pt')\n",
    "    if -tolerance <= train_loss_per_epoch[max(0, epoch-1)] - train_loss_per_epoch[epoch] <= tolerance:\n",
    "        c +=1\n",
    "    else:\n",
    "        c = 0\n",
    "    if c == early_stop_steps:\n",
    "        break\n"
   ]
  }
 ],
 "metadata": {
  "kaggle": {
   "accelerator": "gpu",
   "dataSources": [
    {
     "datasetId": 4641718,
     "sourceId": 7903032,
     "sourceType": "datasetVersion"
    }
   ],
   "dockerImageVersionId": 30919,
   "isGpuEnabled": true,
   "isInternetEnabled": true,
   "language": "python",
   "sourceType": "notebook"
  },
  "kernelspec": {
   "display_name": "bert_clasify",
   "language": "python",
   "name": "python3"
  },
  "language_info": {
   "codemirror_mode": {
    "name": "ipython",
    "version": 3
   },
   "file_extension": ".py",
   "mimetype": "text/x-python",
   "name": "python",
   "nbconvert_exporter": "python",
   "pygments_lexer": "ipython3",
   "version": "3.10.12"
  }
 },
 "nbformat": 4,
 "nbformat_minor": 4
}
