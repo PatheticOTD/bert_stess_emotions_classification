{
 "cells": [
  {
   "cell_type": "code",
   "execution_count": 1,
   "metadata": {
    "execution": {
     "iopub.execute_input": "2025-03-29T17:49:18.249455Z",
     "iopub.status.busy": "2025-03-29T17:49:18.249142Z",
     "iopub.status.idle": "2025-03-29T17:49:18.254791Z",
     "shell.execute_reply": "2025-03-29T17:49:18.253872Z",
     "shell.execute_reply.started": "2025-03-29T17:49:18.249422Z"
    },
    "trusted": true
   },
   "outputs": [
    {
     "name": "stderr",
     "output_type": "stream",
     "text": [
      "/home/maxim/anaconda3/envs/bert_clasify/lib/python3.10/site-packages/tqdm/auto.py:21: TqdmWarning: IProgress not found. Please update jupyter and ipywidgets. See https://ipywidgets.readthedocs.io/en/stable/user_install.html\n",
      "  from .autonotebook import tqdm as notebook_tqdm\n"
     ]
    }
   ],
   "source": [
    "import os\n",
    "import gc\n",
    "import re\n",
    "import math\n",
    "import string\n",
    "import emoji\n",
    "import numpy as np\n",
    "import pandas as pd\n",
    "import fasttext\n",
    "import torch\n",
    "import torch.nn as nn\n",
    "from bs4 import BeautifulSoup\n",
    "from torch import optim\n",
    "from tqdm import tqdm\n",
    "from sklearn.model_selection import train_test_split\n",
    "\n",
    "from transformers import BertForSequenceClassification, DistilBertModel\n",
    "from transformers import AutoTokenizer, TrainingArguments, Trainer\n",
    "from transformers import DataCollatorWithPadding\n",
    "from torch.utils.data import Dataset, DataLoader\n",
    "import evaluate\n",
    "import warnings  \n",
    "\n",
    "warnings.filterwarnings('ignore')\n",
    "os.environ[\"TOKENIZERS_PARALLELISM\"] = \"false\"\n",
    "torch.set_float32_matmul_precision('high')"
   ]
  },
  {
   "cell_type": "code",
   "execution_count": 3,
   "metadata": {
    "execution": {
     "iopub.execute_input": "2025-03-29T17:34:23.185199Z",
     "iopub.status.busy": "2025-03-29T17:34:23.184703Z",
     "iopub.status.idle": "2025-03-29T17:34:23.249999Z",
     "shell.execute_reply": "2025-03-29T17:34:23.249042Z",
     "shell.execute_reply.started": "2025-03-29T17:34:23.185177Z"
    },
    "trusted": true
   },
   "outputs": [
    {
     "data": {
      "text/plain": [
       "device(type='cuda')"
      ]
     },
     "execution_count": 3,
     "metadata": {},
     "output_type": "execute_result"
    }
   ],
   "source": [
    "device = torch.device(\"cuda\" if torch.cuda.is_available() else \"cpu\")\n",
    "device"
   ]
  },
  {
   "cell_type": "code",
   "execution_count": 4,
   "metadata": {
    "execution": {
     "iopub.execute_input": "2025-03-29T17:34:23.253198Z",
     "iopub.status.busy": "2025-03-29T17:34:23.252953Z",
     "iopub.status.idle": "2025-03-29T17:34:23.307021Z",
     "shell.execute_reply": "2025-03-29T17:34:23.306303Z",
     "shell.execute_reply.started": "2025-03-29T17:34:23.253175Z"
    },
    "trusted": true
   },
   "outputs": [],
   "source": [
    "def set_random_seed(seed):\n",
    "    \"\"\"\n",
    "    Set the random seed for NumPy and PyTorch.\n",
    "    Parameters:\n",
    "    seed (int): The seed value to set for random number generation.\n",
    "    \"\"\"\n",
    "    np.random.seed(seed)  # Set seed for NumPy\n",
    "    torch.manual_seed(seed)  # Set seed for CPU\n",
    "    if torch.cuda.is_available():\n",
    "        torch.cuda.manual_seed(seed)  # Set seed for GPU\n",
    "        torch.cuda.manual_seed_all(seed) #Set for all GPUs\n",
    "\n",
    "set_random_seed(42)"
   ]
  },
  {
   "cell_type": "code",
   "execution_count": 4,
   "metadata": {},
   "outputs": [],
   "source": [
    "contraction_mapping = {\"ain't\": \"is not\", \"aren't\": \"are not\",\"can't\": \"cannot\", \"'cause\": \"because\", \"could've\": \"could have\", \"couldn't\": \"could not\", \n",
    "                       \"didn't\": \"did not\",  \"doesn't\": \"does not\", \"don't\": \"do not\", \"hadn't\": \"had not\", \"hasn't\": \"has not\", \"haven't\": \"have not\", \n",
    "                       \"he'd\": \"he would\",\"he'll\": \"he will\", \"he's\": \"he is\", \"how'd\": \"how did\", \"how'd'y\": \"how do you\", \"how'll\": \"how will\", \n",
    "                       \"how's\": \"how is\",  \"I'd\": \"I would\", \"I'd've\": \"I would have\", \"I'll\": \"I will\", \"I'll've\": \"I will have\",\"I'm\": \"I am\",\n",
    "                       \"I've\": \"I have\", \"i'd\": \"i would\", \"i'd've\": \"i would have\", \"i'll\": \"i will\",  \"i'll've\": \"i will have\",\"i'm\": \"i am\", \n",
    "                       \"i've\": \"i have\", \"isn't\": \"is not\", \"it'd\": \"it would\", \"it'd've\": \"it would have\", \"it'll\": \"it will\", \"it'll've\": \"it will have\",\n",
    "                       \"it's\": \"it is\", \"let's\": \"let us\", \"ma'am\": \"madam\", \"mayn't\": \"may not\", \"might've\": \"might have\",\"mightn't\": \"might not\",\n",
    "                       \"mightn't've\": \"might not have\", \"must've\": \"must have\", \"mustn't\": \"must not\", \"mustn't've\": \"must not have\", \"needn't\": \"need not\", \n",
    "                       \"needn't've\": \"need not have\",\"o'clock\": \"of the clock\", \"oughtn't\": \"ought not\", \"oughtn't've\": \"ought not have\", \"shan't\": \"shall not\",\n",
    "                       \"sha'n't\": \"shall not\", \"shan't've\": \"shall not have\", \"she'd\": \"she would\", \"she'd've\": \"she would have\", \"she'll\": \"she will\", \n",
    "                       \"she'll've\": \"she will have\", \"she's\": \"she is\", \"should've\": \"should have\", \"shouldn't\": \"should not\", \"shouldn't've\": \"should not have\",\n",
    "                       \"so've\": \"so have\",\"so's\": \"so as\", \"this's\": \"this is\",\"that'd\": \"that would\", \"that'd've\": \"that would have\", \"that's\": \"that is\",\n",
    "                       \"there'd\": \"there would\", \"there'd've\": \"there would have\", \"there's\": \"there is\", \"here's\": \"here is\",\"they'd\": \"they would\",\n",
    "                       \"they'd've\": \"they would have\", \"they'll\": \"they will\", \"they'll've\": \"they will have\", \"they're\": \"they are\", \"they've\": \"they have\",\n",
    "                       \"to've\": \"to have\", \"wasn't\": \"was not\", \"we'd\": \"we would\", \"we'd've\": \"we would have\", \"we'll\": \"we will\", \"we'll've\": \"we will have\",\n",
    "                       \"we're\": \"we are\", \"we've\": \"we have\", \"weren't\": \"were not\", \"what'll\": \"what will\", \"what'll've\": \"what will have\", \n",
    "                       \"what're\": \"what are\",  \"what's\": \"what is\", \"what've\": \"what have\", \"when's\": \"when is\", \"when've\": \"when have\", \"where'd\": \"where did\",\n",
    "                       \"where's\": \"where is\", \"where've\": \"where have\", \"who'll\": \"who will\", \"who'll've\": \"who will have\", \"who's\": \"who is\", \n",
    "                       \"who've\": \"who have\", \"why's\": \"why is\", \"why've\": \"why have\", \"will've\": \"will have\", \"won't\": \"will not\", \"won't've\": \"will not have\", \n",
    "                       \"would've\": \"would have\", \"wouldn't\": \"would not\", \"wouldn't've\": \"would not have\", \"y'all\": \"you all\", \"y'all'd\": \"you all would\",\n",
    "                       \"y'all'd've\": \"you all would have\",\"y'all're\": \"you all are\",\"y'all've\": \"you all have\",\"you'd\": \"you would\", \"you'd've\": \"you would have\",\n",
    "                       \"you'll\": \"you will\", \"you'll've\": \"you will have\", \"you're\": \"you are\", \"you've\": \"you have\", 'u.s':'america', 'e.g':'for example'}\n",
    "\n",
    "punct = [',', '.', '\"', ':', ')', '(', '-', '!', '?', '|', ';', \"'\", '$', '&', '/', '[', ']', '>', '%', '=', '#', '*', '+', '\\\\', '•',  '~', '@', '£', \n",
    " '·', '_', '{', '}', '©', '^', '®', '`',  '<', '→', '°', '€', '™', '›',  '♥', '←', '×', '§', '″', '′', 'Â', '█', '½', 'à', '…', \n",
    " '“', '★', '”', '–', '●', 'â', '►', '−', '¢', '²', '¬', '░', '¶', '↑', '±', '¿', '▾', '═', '¦', '║', '―', '¥', '▓', '—', '‹', '─', \n",
    " '▒', '：', '¼', '⊕', '▼', '▪', '†', '■', '’', '▀', '¨', '▄', '♫', '☆', 'é', '¯', '♦', '¤', '▲', 'è', '¸', '¾', 'Ã', '⋅', '‘', '∞', \n",
    " '∙', '）', '↓', '、', '│', '（', '»', '，', '♪', '╩', '╚', '³', '・', '╦', '╣', '╔', '╗', '▬', '❤', 'ï', 'Ø', '¹', '≤', '‡', '√', ]\n",
    "\n",
    "punct_mapping = {\"‘\": \"'\", \"₹\": \"e\", \"´\": \"'\", \"°\": \"\", \"€\": \"e\", \"™\": \"tm\", \"√\": \" sqrt \", \"×\": \"x\", \"²\": \"2\", \"—\": \"-\", \"–\": \"-\", \"’\": \"'\", \"_\": \"-\",\n",
    "                 \"`\": \"'\", '“': '\"', '”': '\"', '“': '\"', \"£\": \"e\", '∞': 'infinity', 'θ': 'theta', '÷': '/', 'α': 'alpha', '•': '.', 'à': 'a', '−': '-', \n",
    "                 'β': 'beta', '∅': '', '³': '3', 'π': 'pi', '!':' '}\n",
    "#Самые распространенные ошибки\n",
    "mispell_dict = {'colour': 'color', 'centre': 'center', 'favourite': 'favorite', 'travelling': 'traveling', 'counselling': 'counseling', 'theatre': 'theater',\n",
    "                'cancelled': 'canceled', 'labour': 'labor', 'organisation': 'organization', 'wwii': 'world war 2', 'citicise': 'criticize', 'youtu ': 'youtube ',\n",
    "                'Qoura': 'Quora', 'sallary': 'salary', 'Whta': 'What', 'narcisist': 'narcissist', 'howdo': 'how do', 'whatare': 'what are', 'howcan': 'how can',\n",
    "                'howmuch': 'how much', 'howmany': 'how many', 'whydo': 'why do', 'doI': 'do I', 'theBest': 'the best', 'howdoes': 'how does', \n",
    "                'mastrubation': 'masturbation', 'mastrubate': 'masturbate', \"mastrubating\": 'masturbating', 'pennis': 'penis', 'Etherium': 'Ethereum', \n",
    "                'narcissit': 'narcissist', 'bigdata': 'big data', '2k17': '2017', '2k18': '2018', 'qouta': 'quota', 'exboyfriend': 'ex boyfriend', \n",
    "                'airhostess': 'air hostess', \"whst\": 'what', 'watsapp': 'whatsapp', 'demonitisation': 'demonetization', 'demonitization': 'demonetization',\n",
    "                'demonetisation': 'demonetization'}\n",
    "\n"
   ]
  },
  {
   "cell_type": "code",
   "execution_count": 5,
   "metadata": {},
   "outputs": [],
   "source": [
    "def clean_text(text):\n",
    "    '''Clean emoji, Make text lowercase, remove text in square brackets,remove links,remove punctuation\n",
    "    and remove words containing numbers.'''\n",
    "    text = emoji.demojize(text)\n",
    "    text = re.sub(r'\\:(.*?)\\:','',text)\n",
    "    text = str(text).lower()    #Making Text Lowercase\n",
    "    text = re.sub('\\[.*?\\]', '', text)\n",
    "    #The next 2 lines remove html text\n",
    "    text = BeautifulSoup(text, 'lxml').get_text()\n",
    "    text = re.sub('https?://\\S+|www\\.\\S+', '', text)\n",
    "    text = re.sub('<.*?>+', '', text)\n",
    "    text = re.sub('\\n', '', text)\n",
    "    text = re.sub('\\w*\\d\\w*', '', text)\n",
    "    # replacing everything with space except (a-z, A-Z, \".\", \"?\", \"!\", \",\", \"'\")\n",
    "    text = re.sub(r\"[^a-zA-Z?.!,¿']+\", \" \", text)\n",
    "    return text\n",
    "\n",
    "def clean_contractions(text, mapping):\n",
    "    '''Clean contraction using contraction mapping'''    \n",
    "    specials = [\"’\", \"‘\", \"´\", \"`\"]\n",
    "    for s in specials:\n",
    "        text = text.replace(s, \"'\")\n",
    "    for word in mapping.keys():\n",
    "        if \"\"+word+\"\" in text:\n",
    "            text = text.replace(\"\"+word+\"\", \"\"+mapping[word]+\"\")\n",
    "    #Remove Punctuations\n",
    "    text = re.sub('[%s]' % re.escape(string.punctuation), '', text)\n",
    "    # creating a space between a word and the punctuation following it\n",
    "    # eg: \"he is a boy.\" => \"he is a boy .\"\n",
    "    text = re.sub(r\"([?.!,¿])\", r\" \\1 \", text)\n",
    "    text = re.sub(r'[\" \"]+', \" \", text)\n",
    "    return text\n",
    "\n",
    "def clean_special_chars(text, punct, mapping):\n",
    "    '''Cleans special characters present(if any)'''   \n",
    "    for p in mapping:\n",
    "        text = text.replace(p, mapping[p])\n",
    "    \n",
    "    for p in punct:\n",
    "        text = text.replace(p, f' {p} ')\n",
    "    \n",
    "    specials = {'\\u200b': ' ', '…': ' ... ', '\\ufeff': '', 'करना': '', 'है': ''}  \n",
    "    for s in specials:\n",
    "        text = text.replace(s, specials[s])\n",
    "    \n",
    "    return text\n",
    "\n",
    "def correct_spelling(x, dic):\n",
    "    '''Corrects common spelling errors'''   \n",
    "    for word in dic.keys():\n",
    "        x = x.replace(word, dic[word])\n",
    "    return x\n",
    "\n",
    "def remove_space(text):\n",
    "    '''Removes awkward spaces'''   \n",
    "    #Removes awkward spaces \n",
    "    text = text.strip()\n",
    "    text = text.split()\n",
    "    return \" \".join(text)\n",
    "\n",
    "def text_preprocessing_pipeline(text):\n",
    "    '''Cleaning and parsing the text.'''\n",
    "    text = clean_text(text)\n",
    "    text = clean_contractions(text, contraction_mapping)\n",
    "    text = clean_special_chars(text, punct, punct_mapping)\n",
    "    text = correct_spelling(text, mispell_dict)\n",
    "    text = remove_space(text)\n",
    "    return text"
   ]
  },
  {
   "cell_type": "code",
   "execution_count": 6,
   "metadata": {
    "execution": {
     "iopub.execute_input": "2025-03-29T17:34:23.364232Z",
     "iopub.status.busy": "2025-03-29T17:34:23.363948Z",
     "iopub.status.idle": "2025-03-29T17:34:25.032243Z",
     "shell.execute_reply": "2025-03-29T17:34:25.031311Z",
     "shell.execute_reply.started": "2025-03-29T17:34:23.364209Z"
    },
    "trusted": true
   },
   "outputs": [
    {
     "name": "stdout",
     "output_type": "stream",
     "text": [
      "(70000, 37) (70000, 37) (71225, 37)\n"
     ]
    }
   ],
   "source": [
    "df1 = pd.read_csv('data/goemotions_1.csv')\n",
    "df2 = pd.read_csv('data/goemotions_2.csv')\n",
    "df3 = pd.read_csv('data/goemotions_3.csv')\n",
    "print(df1.shape, df2.shape, df3.shape)\n",
    "\n",
    "df = pd.concat((df1, df2, df3))"
   ]
  },
  {
   "cell_type": "code",
   "execution_count": 7,
   "metadata": {},
   "outputs": [],
   "source": [
    "df['text'] = df['text'].apply(text_preprocessing_pipeline)"
   ]
  },
  {
   "cell_type": "code",
   "execution_count": 8,
   "metadata": {},
   "outputs": [],
   "source": [
    "filter = df['text'].apply(lambda x: len(x) in range(0, 3))\n",
    "df = df[~filter]\n",
    "filter = df['example_very_unclear'] != True\n",
    "df = df[filter]"
   ]
  },
  {
   "cell_type": "code",
   "execution_count": 9,
   "metadata": {},
   "outputs": [
    {
     "data": {
      "image/png": "[encoded data removed]",
      "text/plain": [
       "<Figure size 640x480 with 1 Axes>"
      ]
     },
     "metadata": {},
     "output_type": "display_data"
    }
   ],
   "source": [
    "import matplotlib.pyplot as plt\n",
    "import seaborn as sns\n",
    "\n",
    "\n",
    "hist = sns.histplot(df['text'].str.len().values, \n",
    "                    bins=50, \n",
    "                    color='skyblue', \n",
    "                    edgecolor='black', \n",
    "                    kde=True)\n",
    "plt.show()"
   ]
  },
  {
   "cell_type": "code",
   "execution_count": 10,
   "metadata": {},
   "outputs": [],
   "source": [
    "# df, waste_df = train_test_split(df, test_size=.96, shuffle=True)\n",
    "train_df, test_df = train_test_split(df, test_size=.3, shuffle=True)"
   ]
  },
  {
   "cell_type": "markdown",
   "metadata": {},
   "source": [
    "train_df = train_df.reset_index()\n",
    "emotions = train_df.loc[:, 'admiration':'neutral'].columns\n",
    "bin_idx = train_df.loc[:, 'admiration':'neutral'].values == 1\n",
    "with open('train_data.txt', 'w') as f:\n",
    "    for i in range(train_df.shape[0]):\n",
    "        f.write(' '.join(['__label__' + i for i in emotions[bin_idx[i]]]) + ' ' + train_df.reset_index().loc[i, 'text']+'\\n')\n",
    "        "
   ]
  },
  {
   "cell_type": "markdown",
   "metadata": {},
   "source": [
    "test_df = test_df.reset_index()\n",
    "emotions = test_df.loc[:, 'admiration':'neutral'].columns\n",
    "bin_idx = test_df.loc[:, 'admiration':'neutral'].values == 1\n",
    "with open('test_data.txt', 'w') as f:\n",
    "    for i in range(test_df.shape[0]):\n",
    "        f.write(' '.join(['__label__' + i for i in emotions[bin_idx[i]]]) + ' ' + test_df.reset_index().loc[i, 'text'] + '\\n')"
   ]
  },
  {
   "cell_type": "code",
   "execution_count": null,
   "metadata": {},
   "outputs": [
    {
     "name": "stderr",
     "output_type": "stream",
     "text": [
      "Warning : loss is manually set to a specific value. It will not be automatically optimized.\n",
      "Warning : epoch is manually set to a specific value. It will not be automatically optimized.\n",
      "Progress: 100.0% Trials:   31 Best score:  0.536065 ETA:   0h 0m 0s\n",
      "Training again with best arguments\n",
      "Read 2M words\n",
      "Number of words:  30151\n",
      "Number of labels: 28\n",
      "Progress: 100.0% words/sec/thread:  345854 lr:  0.000000 avg.loss:  2.660721 ETA:   0h 0m 0s% words/sec/thread:  349231 lr:  0.041191 avg.loss:  3.806973 ETA:   0h 0m17s 346987 lr:  0.024202 avg.loss:  3.156097 ETA:   0h 0m10s words/sec/thread:  346926 lr:  0.016868 avg.loss:  2.973224 ETA:   0h 0m 7sm 0s\n"
     ]
    }
   ],
   "source": [
    "model = fasttext.train_supervised(\n",
    "    input = 'train_data.train',\n",
    "    autotuneValidationFile = 'test_data.txt',\n",
    "    epoch = 50,\n",
    "    loss = 'ova',\n",
    "    autotuneMetric = 'f1'\n",
    ")\n",
    "model.save_model('fasttext.bin')"
   ]
  },
  {
   "cell_type": "code",
   "execution_count": 3,
   "metadata": {},
   "outputs": [
    {
     "data": {
      "text/plain": [
       "(62281, 0.042871364117008856, 1.0)"
      ]
     },
     "execution_count": 3,
     "metadata": {},
     "output_type": "execute_result"
    }
   ],
   "source": [
    "model.test('test_data.txt', k = 28)"
   ]
  },
  {
   "cell_type": "code",
   "execution_count": null,
   "metadata": {},
   "outputs": [
    {
     "data": {
      "text/plain": [
       "tensor([ 11.4166,  21.9413,  25.0541,  14.4889,  10.8827,  33.6513,  27.6823,\n",
       "         20.6355,  54.5853,  23.8834,  17.6312,  39.0046,  84.5654,  36.6514,\n",
       "         64.6559,  17.1175, 300.1344,  25.3701,  24.7009, 116.6269,  23.3546,\n",
       "        163.2856,  22.8787, 162.9213,  82.2528,  29.8678,  36.8732,   2.8329],\n",
       "       device='cuda:0')"
      ]
     },
     "execution_count": 7,
     "metadata": {},
     "output_type": "execute_result"
    }
   ],
   "source": [
    "# df.loc[:, 'admiration':].sum(axis=0)\n",
    "# Для каждого класса: pos_weight = (количество негативных примеров) / (количество позитивных)\n",
    "positive_counts = train_df.loc[:, 'admiration':'neutral'].sum(axis=0).values  # Число позитивных примеров по классам\n",
    "negative_counts = len(train_df) - positive_counts                             # Число негативных примеров\n",
    "pos_weights = (negative_counts / positive_counts).astype(np.float32)          # Соотношение негативных к позитивным\n",
    "\n",
    "# Преобразуем в тензор и отправляем на устройство (GPU)\n",
    "pos_weights_tensor = torch.tensor(pos_weights, device=device)\n",
    "pos_weights_tensor"
   ]
  },
  {
   "cell_type": "code",
   "execution_count": null,
   "metadata": {
    "execution": {
     "iopub.execute_input": "2025-03-29T17:34:25.033619Z",
     "iopub.status.busy": "2025-03-29T17:34:25.033279Z",
     "iopub.status.idle": "2025-03-29T17:34:25.038616Z",
     "shell.execute_reply": "2025-03-29T17:34:25.037889Z",
     "shell.execute_reply.started": "2025-03-29T17:34:25.033567Z"
    },
    "trusted": true
   },
   "outputs": [],
   "source": [
    "class TextDataset(Dataset):\n",
    "    def __init__(self, df, tokenizer):\n",
    "        self.tokenizer = tokenizer\n",
    "        self.text = df.text.values\n",
    "        emotions = df.loc[:, 'admiration':'neutral']\n",
    "        self.emotion_names = emotions.columns\n",
    "        self.emotions_values =emotions.values\n",
    "    def __getitem__(self, idx):\n",
    "        dict_idx = self.tokenizer(self.text[idx], truncation=True, padding='max_length', max_length=512, return_tensors=\"pt\")\n",
    "        dict_idx['labels'] = self.emotions_values[idx]\n",
    "        return dict_idx\n",
    "    def __len__(self):return self.text.shape[0]"
   ]
  },
  {
   "cell_type": "code",
   "execution_count": null,
   "metadata": {
    "execution": {
     "iopub.execute_input": "2025-03-29T17:34:25.039896Z",
     "iopub.status.busy": "2025-03-29T17:34:25.039580Z",
     "iopub.status.idle": "2025-03-29T17:34:25.919458Z",
     "shell.execute_reply": "2025-03-29T17:34:25.918507Z",
     "shell.execute_reply.started": "2025-03-29T17:34:25.039867Z"
    },
    "trusted": true
   },
   "outputs": [],
   "source": [
    "tokenizer = AutoTokenizer.from_pretrained('distilbert-base-uncased')\n",
    "train_dataset = TextDataset(train_df, tokenizer = tokenizer)\n",
    "test_dataset = TextDataset(test_df,tokenizer = tokenizer)"
   ]
  },
  {
   "cell_type": "code",
   "execution_count": null,
   "metadata": {
    "execution": {
     "iopub.execute_input": "2025-03-29T17:34:23.308914Z",
     "iopub.status.busy": "2025-03-29T17:34:23.308579Z",
     "iopub.status.idle": "2025-03-29T17:34:23.363078Z",
     "shell.execute_reply": "2025-03-29T17:34:23.362410Z",
     "shell.execute_reply.started": "2025-03-29T17:34:23.308878Z"
    },
    "trusted": true
   },
   "outputs": [],
   "source": [
    "lr = 3e-4\n",
    "batch_size = 32\n",
    "num_epochs = 50\n",
    "\n",
    "train_loader = DataLoader(train_dataset, batch_size, shuffle = True, num_workers=6)\n",
    "test_loader = DataLoader(test_dataset, batch_size, shuffle = True, num_workers=6)"
   ]
  },
  {
   "cell_type": "code",
   "execution_count": null,
   "metadata": {
    "execution": {
     "iopub.execute_input": "2025-03-29T17:35:43.108343Z",
     "iopub.status.busy": "2025-03-29T17:35:43.108052Z",
     "iopub.status.idle": "2025-03-29T17:35:43.360102Z",
     "shell.execute_reply": "2025-03-29T17:35:43.359383Z",
     "shell.execute_reply.started": "2025-03-29T17:35:43.108319Z"
    },
    "trusted": true
   },
   "outputs": [],
   "source": [
    "accuracy = evaluate.load(\"accuracy\")"
   ]
  },
  {
   "cell_type": "code",
   "execution_count": null,
   "metadata": {
    "execution": {
     "iopub.execute_input": "2025-03-29T17:47:28.535035Z",
     "iopub.status.busy": "2025-03-29T17:47:28.534735Z",
     "iopub.status.idle": "2025-03-29T17:47:28.542139Z",
     "shell.execute_reply": "2025-03-29T17:47:28.541074Z",
     "shell.execute_reply.started": "2025-03-29T17:47:28.535012Z"
    },
    "trusted": true
   },
   "outputs": [],
   "source": [
    "class CosineLearningRate():\n",
    "    def __init__(self, max_lr, min_lr, warmupsteps, max_steps):\n",
    "        self.max_lr = max_lr\n",
    "        self.min_lr = min_lr\n",
    "        self.warmupsteps = warmupsteps\n",
    "        self.max_steps = max_steps\n",
    "    \n",
    "    def get_lr(self, it):\n",
    "        if it < self.warmupsteps:\n",
    "            return self.max_lr * (it + 1)\n",
    "        if it > self.max_steps:\n",
    "            return self.min_lr\n",
    "        decay_ratio = (it - self.warmupsteps) / (self.max_steps - self.warmupsteps)\n",
    "        assert 0 <= decay_ratio <= 1\n",
    "        coeff = 0.5 * (1.0 + math.cos(math.pi * decay_ratio))\n",
    "        return self.min_lr + coeff * (self.max_lr - self.min_lr)\n",
    "\n",
    "class DistillBertClass(torch.nn.Module):\n",
    "    def __init__(self, d_model, nclasses, dropout = .2):\n",
    "        super(DistillBertClass, self).__init__()\n",
    "        self.bert = DistilBertModel.from_pretrained(\"distilbert-base-uncased\")\n",
    "        self.pre_classifier = torch.nn.Linear(768, d_model)\n",
    "        self.dropout = torch.nn.Dropout(dropout)\n",
    "        self.classifier = torch.nn.Linear(d_model, nclasses)\n",
    "\n",
    "    def forward(self, input_ids, attention_mask = None):\n",
    "        output_1 = self.bert(input_ids=input_ids, attention_mask=attention_mask)\n",
    "        hidden_state = output_1['last_hidden_state']\n",
    "        pooler = hidden_state[:, 0]\n",
    "        pooler = self.pre_classifier(pooler)\n",
    "        pooler = torch.nn.ReLU()(pooler)\n",
    "        pooler = self.dropout(pooler)\n",
    "        output = self.classifier(pooler)\n",
    "        return output\n"
   ]
  },
  {
   "cell_type": "code",
   "execution_count": null,
   "metadata": {},
   "outputs": [
    {
     "data": {
      "text/plain": [
       "28"
      ]
     },
     "execution_count": 12,
     "metadata": {},
     "output_type": "execute_result"
    }
   ],
   "source": [
    "len(train_dataset.emotion_names)"
   ]
  },
  {
   "cell_type": "code",
   "execution_count": null,
   "metadata": {},
   "outputs": [],
   "source": [
    "model = DistillBertClass(d_model = 768, nclasses=len(train_dataset.emotion_names)).to(device)\n",
    "model = torch.compile(model)"
   ]
  },
  {
   "cell_type": "code",
   "execution_count": null,
   "metadata": {},
   "outputs": [
    {
     "name": "stderr",
     "output_type": "stream",
     "text": [
      "Current Batch:: 100%|██████████| 93/93 [00:31<00:00,  2.96it/s]]\n",
      "Evaluating:: 100%|██████████| 40/40 [00:03<00:00, 10.04it/s]\n",
      "Current Epoch::   2%|▍                   | 1/50 [00:35<28:56, 35.44s/it]"
     ]
    },
    {
     "name": "stdout",
     "output_type": "stream",
     "text": [
      "Train loss: 3.8028; Validation loss: 3.6160; Time taken: 35442.22 ms;\n"
     ]
    },
    {
     "name": "stderr",
     "output_type": "stream",
     "text": []
    }
   ],
   "source": [
    "from tqdm import tqdm\n",
    "import time\n",
    "cos_lr = CosineLearningRate(max_lr = 6e-4, \n",
    "                            min_lr = 6e-4 * 0.1,\n",
    "                            warmupsteps=10,\n",
    "                            max_steps = 50)\n",
    "loss_fn = nn.CrossEntropyLoss()\n",
    "optimizer = optim.AdamW(model.parameters(), lr = 6e-4, betas = (0.9, 0.95), eps = 1e-8, fused=True)\n",
    "epochs = 50\n",
    "train_loss_per_epoch = np.zeros(epochs)\n",
    "val_loss_per_epoch = np.zeros(epochs)\n",
    "for epoch in tqdm(range(epochs), bar_format='{l_bar}{bar:20}{r_bar}', desc =\"Current Epoch\"):\n",
    "    train_losses = []\n",
    "    val_losses = []\n",
    "    accuracy = []\n",
    "    model.train()\n",
    "    for d in tqdm(train_loader, bar_format='{l_bar}{bar:10}{r_bar}', desc =\"Current Batch\"):\n",
    "        x = d['input_ids'].to(device)\n",
    "        mask = d['attention_mask'].to(device)\n",
    "        y = d['labels'].to(device, dtype = torch.float32)\n",
    "        \n",
    "        with torch.autocast(device_type=device.type, dtype = torch.bfloat16):\n",
    "            preds = model(x.squeeze(1), mask.squeeze(1))\n",
    "            # preds = preds.view(-1, preds.size(-1))\n",
    "            loss = loss_fn(preds, y)\n",
    "        train_losses.append(loss.item())\n",
    "        optimizer.zero_grad()\n",
    "        loss.backward()\n",
    "        lr = cos_lr.get_lr(epoch)\n",
    "    for param_group in optimizer.param_groups:\n",
    "        param_group['lr'] = lr\n",
    "    optimizer.step()\n",
    "    \n",
    "    model.eval()\n",
    "    with torch.no_grad():\n",
    "        for d in test_loader:\n",
    "            x = d['input_ids'].to(device)\n",
    "            mask = d['attention_mask'].to(device)\n",
    "            y = d['labels'].to(device, dtype = torch.float32)\n",
    "            with torch.autocast(device_type=device.type, dtype = torch.bfloat16):\n",
    "                preds = model(x.squeeze(1), mask.squeeze(1))\n",
    "                # preds = preds.view(-1, preds.size(-1))\n",
    "                loss = loss_fn(preds, y)\n",
    "            val_losses.append(loss.item())\n",
    "            \n",
    "    avg_train_loss = sum(train_losses) / len(train_losses)\n",
    "    avg_val_loss = sum(val_losses) / len(val_losses)\n",
    "    train_loss_per_epoch[epoch] = avg_train_loss\n",
    "    val_loss_per_epoch[epoch] = avg_val_loss\n",
    "    if epoch % 1 == 0:\n",
    "        print(f\"Train loss: {avg_train_loss:.4f}; Validation loss: {avg_val_loss:.4f};\")"
   ]
  }
 ],
 "metadata": {
  "kaggle": {
   "accelerator": "gpu",
   "dataSources": [
    {
     "datasetId": 1060121,
     "sourceId": 1956405,
     "sourceType": "datasetVersion"
    }
   ],
   "isGpuEnabled": true,
   "isInternetEnabled": true,
   "language": "python",
   "sourceType": "notebook"
  },
  "kernelspec": {
   "display_name": "bert_clasify",
   "language": "python",
   "name": "python3"
  },
  "language_info": {
   "codemirror_mode": {
    "name": "ipython",
    "version": 3
   },
   "file_extension": ".py",
   "mimetype": "text/x-python",
   "name": "python",
   "nbconvert_exporter": "python",
   "pygments_lexer": "ipython3",
   "version": "3.10.12"
  }
 },
 "nbformat": 4,
 "nbformat_minor": 4
}
